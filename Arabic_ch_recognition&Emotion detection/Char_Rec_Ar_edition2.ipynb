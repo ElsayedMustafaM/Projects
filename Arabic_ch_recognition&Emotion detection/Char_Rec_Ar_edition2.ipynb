{
  "cells": [
    {
      "cell_type": "markdown",
      "metadata": {
        "id": "c8t4ezkkZs14"
      },
      "source": [
        "# Import Liberaries "
      ]
    },
    {
      "cell_type": "code",
      "execution_count": 25,
      "metadata": {
        "id": "Kt1yV803C4BT"
      },
      "outputs": [],
      "source": [
        "import numpy as np \n",
        "import pandas as pd\n",
        "import matplotlib.pyplot as plt\n",
        "import matplotlib.image as mpimg\n",
        "import random\n",
        "import cv2\n",
        "import os\n",
        "from imgaug import augmenters as iaa\n",
        "from keras.utils.np_utils import to_categorical\n",
        "import tensorflow as tf\n",
        "from tensorflow.keras.models import Sequential\n",
        "from tensorflow.keras.layers import Dense,Flatten,Dropout,Conv2D,MaxPooling2D,GlobalAveragePooling2D\n",
        "from sklearn.utils import shuffle\n",
        "from sklearn.model_selection import train_test_split\n"
      ]
    },
    {
      "cell_type": "markdown",
      "metadata": {
        "id": "7KvZUWLGZvk3"
      },
      "source": [
        "# Connect to My google drive"
      ]
    },
    {
      "cell_type": "code",
      "execution_count": 2,
      "metadata": {
        "colab": {
          "base_uri": "https://localhost:8080/"
        },
        "id": "2UhTK0teC45r",
        "outputId": "569b849b-5c23-46cd-9003-dedf1c67096c"
      },
      "outputs": [
        {
          "output_type": "stream",
          "name": "stdout",
          "text": [
            "Mounted at /content/drive\n"
          ]
        }
      ],
      "source": [
        "# Load the Drive helper and mount\n",
        "\n",
        "from google.colab import drive\n",
        "# This will prompt for authorization.\n",
        "drive.mount('/content/drive')"
      ]
    },
    {
      "cell_type": "markdown",
      "metadata": {
        "id": "dcuMQFnCZz2T"
      },
      "source": [
        "# Read Data \n",
        "\n",
        "images for 29 arabic character in different position in sentence\n",
        "\n",
        "data link : https://github.com/HusseinYoussef/Arabic-OCR/tree/master/Dataset"
      ]
    },
    {
      "cell_type": "code",
      "execution_count": 26,
      "metadata": {
        "id": "82klXG_dXRUz"
      },
      "outputs": [],
      "source": [
        "labels=[u'ا',u'ب',u'ت',u'ث',u'ج',u'ح',u'خ',u'د',u'ذ',u'ر',u'ز',u'س',u'ش',u'ص',u'ض',u'ط',u'ظ',u'ع',u'غ',u'ف',u'ق',u'ك',u'ل',u'لا',u'م',u'ن',u'ه',u'و',u'ي']"
      ]
    },
    {
      "cell_type": "code",
      "execution_count": 27,
      "metadata": {
        "id": "36dwLvX57Sno"
      },
      "outputs": [],
      "source": [
        "images = []\n",
        "y=[]\n",
        "def load_images_from_folder(folder,label):   \n",
        "    for filename in os.listdir(folder):\n",
        "        img = cv2.imread(os.path.join(folder,filename))\n",
        "        if img is not None:\n",
        "            images.append(img)\n",
        "            y.append(label)\n",
        "    return images"
      ]
    },
    {
      "cell_type": "code",
      "execution_count": 28,
      "metadata": {
        "id": "gPnEHdKIRYdT"
      },
      "outputs": [],
      "source": [
        "for i in range(29):\n",
        "    load_images_from_folder('/content/drive/My Drive/Arabic Handwritten Characters/charctaers_datasets/{}'.format(labels[i]),i)"
      ]
    },
    {
      "cell_type": "code",
      "execution_count": 29,
      "metadata": {
        "colab": {
          "base_uri": "https://localhost:8080/"
        },
        "id": "CwCa1czOOwXl",
        "outputId": "0b0c0408-8e31-4078-9e88-f2ce1befaa91"
      },
      "outputs": [
        {
          "output_type": "stream",
          "name": "stdout",
          "text": [
            "Images Count : 39334 and labels count 39334\n"
          ]
        }
      ],
      "source": [
        "print(\"Images Count : {} and labels count {}\".format(len(images),len(y)))"
      ]
    },
    {
      "cell_type": "markdown",
      "metadata": {
        "id": "pb1vJZgAoAIM"
      },
      "source": [
        "#Visualization "
      ]
    },
    {
      "cell_type": "code",
      "execution_count": 30,
      "metadata": {
        "colab": {
          "base_uri": "https://localhost:8080/",
          "height": 390
        },
        "id": "JtyfqgjMoB6T",
        "outputId": "951c4be2-f9f1-4e9d-e9f9-058bf48405a4"
      },
      "outputs": [
        {
          "output_type": "display_data",
          "data": {
            "text/plain": [
              "<Figure size 576x432 with 9 Axes>"
            ],
            "image/png": "[encoded data removed]"
          },
          "metadata": {
            "needs_background": "light"
          }
        }
      ],
      "source": [
        "plt.figure(figsize=(8,6))\n",
        "for i in range(9):\n",
        "    plt.subplot(3,3,i+1)\n",
        "    ran_num=random.randint(0, 10000)\n",
        "    plt.imshow(images[ran_num])\n",
        "    plt.title(labels[y[ran_num]])\n",
        "plt.show()"
      ]
    },
    {
      "cell_type": "markdown",
      "metadata": {
        "id": "TEQJvvtya7NN"
      },
      "source": [
        "# Data Augmentation "
      ]
    },
    {
      "cell_type": "code",
      "execution_count": 31,
      "metadata": {
        "colab": {
          "base_uri": "https://localhost:8080/",
          "height": 254
        },
        "id": "ng8jga5NEPaF",
        "outputId": "7604a89f-0d2c-465c-b87e-46a008522a69"
      },
      "outputs": [
        {
          "output_type": "execute_result",
          "data": {
            "text/plain": [
              "Text(0.5, 1.0, 'Zoomed In Image')"
            ]
          },
          "metadata": {},
          "execution_count": 31
        },
        {
          "output_type": "display_data",
          "data": {
            "text/plain": [
              "<Figure size 288x216 with 2 Axes>"
            ],
            "image/png": "[encoded data removed]"
          },
          "metadata": {
            "needs_background": "light"
          }
        }
      ],
      "source": [
        "#Zoom image\n",
        "\n",
        "def zoom_in (image):\n",
        "  zoom=iaa.Affine(scale=(0.5,0.6))\n",
        "  image=zoom.augment_image(image)\n",
        "  return image \n",
        "\n",
        "\n",
        "\n",
        "\n",
        "#visualize  the agumenetd image\n",
        "original_image = images[random.randint(0, 10000)].astype(np.uint8)\n",
        "zoomed_image = zoom_in(original_image)\n",
        "\n",
        "fig, axs = plt.subplots(1, 2, figsize=(4, 3))\n",
        "fig.tight_layout()\n",
        "\n",
        "axs[0].imshow(original_image,cmap='gray')\n",
        "axs[0].set_title('Original Image')\n",
        "\n",
        "axs[1].imshow(zoomed_image,cmap='gray')\n",
        "axs[1].set_title('Zoomed In Image')\n",
        "\n",
        "\n"
      ]
    },
    {
      "cell_type": "code",
      "source": [
        "#Zoom image\n",
        "\n",
        "def zoom_out(image):\n",
        "  zoom=iaa.Affine(scale=(1.1,1.1))\n",
        "  image=zoom.augment_image(image)\n",
        "  return image \n",
        "\n",
        "\n",
        "\n",
        "\n",
        "#visualize  the agumenetd image\n",
        "original_image = images[random.randint(0, 10000)].astype(np.uint8)\n",
        "zoomed_image = zoom_out(original_image)\n",
        "\n",
        "fig, axs = plt.subplots(1, 2, figsize=(4, 3))\n",
        "fig.tight_layout()\n",
        "\n",
        "axs[0].imshow(original_image,cmap='gray')\n",
        "axs[0].set_title('Original Image')\n",
        "\n",
        "axs[1].imshow(zoomed_image,cmap='gray')\n",
        "axs[1].set_title('Zoomed out Image')\n",
        "\n",
        "\n"
      ],
      "metadata": {
        "colab": {
          "base_uri": "https://localhost:8080/",
          "height": 254
        },
        "id": "5VNGsd5lXwjH",
        "outputId": "4460bf60-d8c2-4cdf-c245-165f3c71ffe1"
      },
      "execution_count": 32,
      "outputs": [
        {
          "output_type": "execute_result",
          "data": {
            "text/plain": [
              "Text(0.5, 1.0, 'Zoomed out Image')"
            ]
          },
          "metadata": {},
          "execution_count": 32
        },
        {
          "output_type": "display_data",
          "data": {
            "text/plain": [
              "<Figure size 288x216 with 2 Axes>"
            ],
            "image/png": "[encoded data removed]"
          },
          "metadata": {
            "needs_background": "light"
          }
        }
      ]
    },
    {
      "cell_type": "code",
      "execution_count": 33,
      "metadata": {
        "id": "EH4M1PhnZNv1"
      },
      "outputs": [],
      "source": [
        "#Augmentation function \n",
        "\n",
        "def agumented_image(image,label):\n",
        "  if np.random.rand()<0.5:\n",
        "    image=zoom_in(image)\n",
        "  if np.random.rand()<0.5:\n",
        "    image=zoom_out(image)\n",
        "  return image,label"
      ]
    },
    {
      "cell_type": "markdown",
      "metadata": {
        "id": "4DjuiDNTbtwp"
      },
      "source": [
        "## Visualize  agumented images"
      ]
    },
    {
      "cell_type": "code",
      "execution_count": 34,
      "metadata": {
        "colab": {
          "base_uri": "https://localhost:8080/",
          "height": 1000
        },
        "id": "xExqYwKybpvS",
        "outputId": "147c021a-94d6-4589-f638-627558a3ca30"
      },
      "outputs": [
        {
          "output_type": "display_data",
          "data": {
            "text/plain": [
              "<Figure size 720x2880 with 20 Axes>"
            ],
            "image/png": "[encoded data removed]"
          },
          "metadata": {
            "needs_background": "light"
          }
        }
      ],
      "source": [
        "#visualize the agumented images \n",
        "ncol = 2\n",
        "nrow = 10\n",
        "fig, axs = plt.subplots(nrow, ncol, figsize=(10, 40))\n",
        "fig.tight_layout()\n",
        "\n",
        "for i in range(10):\n",
        "  randnum = random.randint(0, len(images) - 1)\n",
        "  original_image = images[randnum].astype(np.uint8)\n",
        "    \n",
        "  augmented_image, label = agumented_image(original_image,y[randnum])\n",
        "    \n",
        "  axs[i][0].imshow(original_image,cmap='gray')\n",
        "  axs[i][0].set_title(\"Original Image : \"+ str(label))\n",
        "  \n",
        "  axs[i][1].imshow(augmented_image,cmap='gray')\n",
        "  axs[i][1].set_title(\"Augmented Image : \" +str(label ))"
      ]
    },
    {
      "cell_type": "markdown",
      "source": [
        "#### Know mean size of images to reshape it\n"
      ],
      "metadata": {
        "id": "D0P7IUcQY1MX"
      }
    },
    {
      "cell_type": "code",
      "source": [
        "dim1=[]\n",
        "dim2=[]\n",
        "for image in images:\n",
        "    d1,d2,colors=image.shape\n",
        "    dim1.append(d1)\n",
        "    dim2.append(d2)"
      ],
      "metadata": {
        "id": "1RC0LTe5Y9mU"
      },
      "execution_count": 35,
      "outputs": []
    },
    {
      "cell_type": "code",
      "source": [
        "print(np.mean(dim1),np.mean(dim2))\n"
      ],
      "metadata": {
        "colab": {
          "base_uri": "https://localhost:8080/"
        },
        "id": "fjnZPozkY_6H",
        "outputId": "47f7979d-4a6c-4c03-8093-922aaf23033b"
      },
      "execution_count": 36,
      "outputs": [
        {
          "output_type": "stream",
          "name": "stdout",
          "text": [
            "22.247317842070473 8.809681191844206\n"
          ]
        }
      ]
    },
    {
      "cell_type": "markdown",
      "metadata": {
        "id": "VpKtYUuUdQ6R"
      },
      "source": [
        "#Image PreProcessing"
      ]
    },
    {
      "cell_type": "code",
      "execution_count": 37,
      "metadata": {
        "id": "2aHox49zTqXG"
      },
      "outputs": [],
      "source": [
        "def image_preprocessing(image):\n",
        "    image=image.astype(np.uint8)\n",
        "    image=cv2.cvtColor(image,cv2.COLOR_BGR2GRAY)\n",
        "    image=image/255\n",
        "    img=cv2.resize(image,(28,20))\n",
        "    return img"
      ]
    },
    {
      "cell_type": "code",
      "execution_count": 38,
      "metadata": {
        "id": "GDz-Ef79UZTs"
      },
      "outputs": [],
      "source": [
        "images=[image_preprocessing(image) for image in images ]\n",
        "images=np.array(images)"
      ]
    },
    {
      "cell_type": "code",
      "source": [
        "print(\"y  shape :\",np.array(y).shape)\n"
      ],
      "metadata": {
        "colab": {
          "base_uri": "https://localhost:8080/"
        },
        "id": "a6OD10JwZHQ3",
        "outputId": "d0adff9a-70de-4f60-94fc-788ddd2baae7"
      },
      "execution_count": 39,
      "outputs": [
        {
          "output_type": "stream",
          "name": "stdout",
          "text": [
            "y  shape : (39334,)\n"
          ]
        }
      ]
    },
    {
      "cell_type": "markdown",
      "source": [
        "convert shape of label "
      ],
      "metadata": {
        "id": "aodNCag_ZI6U"
      }
    },
    {
      "cell_type": "code",
      "source": [
        "y=to_categorical(np.array(y))\n",
        "y.shape"
      ],
      "metadata": {
        "colab": {
          "base_uri": "https://localhost:8080/"
        },
        "id": "Kme9Hrc7ZK17",
        "outputId": "d5e6e0ae-0b62-405c-dae8-66ba7ccac87c"
      },
      "execution_count": 40,
      "outputs": [
        {
          "output_type": "execute_result",
          "data": {
            "text/plain": [
              "(39334, 29)"
            ]
          },
          "metadata": {},
          "execution_count": 40
        }
      ]
    },
    {
      "cell_type": "markdown",
      "source": [
        "Split Images To train and test "
      ],
      "metadata": {
        "id": "dVP_8wLjYP19"
      }
    },
    {
      "cell_type": "code",
      "execution_count": 41,
      "metadata": {
        "id": "AxuVdO25UoMe"
      },
      "outputs": [],
      "source": [
        "from sklearn.model_selection import train_test_split\n",
        "X_train,X_test,train_y,test_y=train_test_split(images,y,test_size=0.1,shuffle=True) #train 90% and test 10%"
      ]
    },
    {
      "cell_type": "code",
      "execution_count": 42,
      "metadata": {
        "colab": {
          "base_uri": "https://localhost:8080/"
        },
        "id": "cMyIYvc4Da9f",
        "outputId": "a1ff775e-ea5f-45b1-af82-4dbc29f37ca5"
      },
      "outputs": [
        {
          "output_type": "stream",
          "name": "stdout",
          "text": [
            "Training Images Shape :  (35400, 28, 20, 1)\n",
            "Testing Images Shape :  (3934, 28, 20, 1)\n"
          ]
        }
      ],
      "source": [
        "X_train=X_train.reshape(X_train.shape[0],28,20,1)\n",
        "X_test=X_test.reshape(X_test.shape[0],28,20,1)\n",
        "\n",
        "print(\"Training Images Shape : \", X_train.shape)\n",
        "print(\"Testing Images Shape : \",X_test.shape)"
      ]
    },
    {
      "cell_type": "markdown",
      "metadata": {
        "id": "5DTWYbwnen3M"
      },
      "source": [
        "Build Batch  generatot "
      ]
    },
    {
      "cell_type": "code",
      "execution_count": 43,
      "metadata": {
        "id": "_d_8eDqPeloU"
      },
      "outputs": [],
      "source": [
        "def batch_generator (images,labels,batch_size,istraining):\n",
        "  while True:\n",
        "    batch_img = []\n",
        "    batch_label = []\n",
        "    \n",
        "    for i in range(batch_size):\n",
        "      random_index = random.randint(0, len(images) - 1)\n",
        "      \n",
        "      if istraining:\n",
        "        image, label = agumented_image(images[random_index].reshape(28,20).astype(np.uint8), labels[random_index])\n",
        "     \n",
        "      else:\n",
        "        image = images[random_index]\n",
        "        label = labels[random_index]\n",
        "      \n",
        "      batch_img.append(image.reshape(32,32,1))\n",
        "      batch_label.append(label)\n",
        "    yield (np.array(batch_img), np.array(batch_label)) \n",
        "      \n"
      ]
    },
    {
      "cell_type": "markdown",
      "metadata": {
        "id": "zJyLs6m1Htt_"
      },
      "source": [
        "# Define Model "
      ]
    },
    {
      "cell_type": "code",
      "execution_count": 44,
      "metadata": {
        "id": "RZgRtumEVvPZ"
      },
      "outputs": [],
      "source": [
        "num_classes=29\n",
        "\n",
        "def create_model():\n",
        "  model=Sequential()\n",
        "  model.add(Conv2D(30,(3,3),input_shape=(28,20,1),activation='relu'))\n",
        "  model.add(MaxPooling2D(pool_size=(2,2)))\n",
        "  model.add(Conv2D(60,(3,3),activation='relu'))\n",
        "  model.add(MaxPooling2D(pool_size=(2,2)))\n",
        "  model.add(Flatten())\n",
        "  model.add(Dense(50,activation='relu'))\n",
        "  model.add(Dropout(0.5))\n",
        "  model.add(Dense(num_classes,activation='softmax'))\n",
        "  model.compile(optimizer='adam',loss=\"categorical_crossentropy\",metrics=['accuracy'])\n",
        "  return model\n"
      ]
    },
    {
      "cell_type": "code",
      "execution_count": 45,
      "metadata": {
        "colab": {
          "base_uri": "https://localhost:8080/"
        },
        "id": "FZTvyTGpDbC6",
        "outputId": "54b31b27-fff5-4834-9b9d-a8e47603c750"
      },
      "outputs": [
        {
          "output_type": "stream",
          "name": "stdout",
          "text": [
            "Model: \"sequential\"\n",
            "_________________________________________________________________\n",
            " Layer (type)                Output Shape              Param #   \n",
            "=================================================================\n",
            " conv2d (Conv2D)             (None, 26, 18, 30)        300       \n",
            "                                                                 \n",
            " max_pooling2d (MaxPooling2D  (None, 13, 9, 30)        0         \n",
            " )                                                               \n",
            "                                                                 \n",
            " conv2d_1 (Conv2D)           (None, 11, 7, 60)         16260     \n",
            "                                                                 \n",
            " max_pooling2d_1 (MaxPooling  (None, 5, 3, 60)         0         \n",
            " 2D)                                                             \n",
            "                                                                 \n",
            " flatten (Flatten)           (None, 900)               0         \n",
            "                                                                 \n",
            " dense (Dense)               (None, 50)                45050     \n",
            "                                                                 \n",
            " dropout (Dropout)           (None, 50)                0         \n",
            "                                                                 \n",
            " dense_1 (Dense)             (None, 29)                1479      \n",
            "                                                                 \n",
            "=================================================================\n",
            "Total params: 63,089\n",
            "Trainable params: 63,089\n",
            "Non-trainable params: 0\n",
            "_________________________________________________________________\n",
            "None\n"
          ]
        }
      ],
      "source": [
        "model=create_model()\n",
        "print(model.summary())"
      ]
    },
    {
      "cell_type": "markdown",
      "metadata": {
        "id": "Uv7S4u83fRU8"
      },
      "source": [
        "Train Model "
      ]
    },
    {
      "cell_type": "code",
      "execution_count": 46,
      "metadata": {
        "colab": {
          "base_uri": "https://localhost:8080/"
        },
        "id": "mhQLkZDciXNn",
        "outputId": "d57d5519-3a68-498a-f98f-d11c9344a79c"
      },
      "outputs": [
        {
          "output_type": "stream",
          "name": "stdout",
          "text": [
            "Epoch 1/30\n",
            "249/249 [==============================] - 16s 63ms/step - loss: 2.0238 - accuracy: 0.4259 - val_loss: 0.7923 - val_accuracy: 0.7946\n",
            "Epoch 2/30\n",
            "249/249 [==============================] - 16s 64ms/step - loss: 1.0460 - accuracy: 0.6565 - val_loss: 0.4288 - val_accuracy: 0.8777\n",
            "Epoch 3/30\n",
            "249/249 [==============================] - 16s 65ms/step - loss: 0.8168 - accuracy: 0.7209 - val_loss: 0.3261 - val_accuracy: 0.9025\n",
            "Epoch 4/30\n",
            "249/249 [==============================] - 16s 63ms/step - loss: 0.6977 - accuracy: 0.7598 - val_loss: 0.2708 - val_accuracy: 0.9243\n",
            "Epoch 5/30\n",
            "249/249 [==============================] - 15s 62ms/step - loss: 0.6253 - accuracy: 0.7829 - val_loss: 0.2284 - val_accuracy: 0.9328\n",
            "Epoch 6/30\n",
            "249/249 [==============================] - 15s 62ms/step - loss: 0.5837 - accuracy: 0.7950 - val_loss: 0.1966 - val_accuracy: 0.9393\n",
            "Epoch 7/30\n",
            "249/249 [==============================] - 15s 61ms/step - loss: 0.5435 - accuracy: 0.8044 - val_loss: 0.1798 - val_accuracy: 0.9446\n",
            "Epoch 8/30\n",
            "249/249 [==============================] - 15s 62ms/step - loss: 0.5145 - accuracy: 0.8163 - val_loss: 0.1639 - val_accuracy: 0.9520\n",
            "Epoch 9/30\n",
            "249/249 [==============================] - 18s 71ms/step - loss: 0.4874 - accuracy: 0.8239 - val_loss: 0.1566 - val_accuracy: 0.9531\n",
            "Epoch 10/30\n",
            "249/249 [==============================] - 18s 71ms/step - loss: 0.4683 - accuracy: 0.8290 - val_loss: 0.1450 - val_accuracy: 0.9551\n",
            "Epoch 11/30\n",
            "249/249 [==============================] - 28s 112ms/step - loss: 0.4536 - accuracy: 0.8358 - val_loss: 0.1332 - val_accuracy: 0.9607\n",
            "Epoch 12/30\n",
            "249/249 [==============================] - 21s 84ms/step - loss: 0.4367 - accuracy: 0.8403 - val_loss: 0.1289 - val_accuracy: 0.9647\n",
            "Epoch 13/30\n",
            "249/249 [==============================] - 18s 72ms/step - loss: 0.4175 - accuracy: 0.8469 - val_loss: 0.1122 - val_accuracy: 0.9681\n",
            "Epoch 14/30\n",
            "249/249 [==============================] - 19s 75ms/step - loss: 0.4190 - accuracy: 0.8458 - val_loss: 0.1269 - val_accuracy: 0.9636\n",
            "Epoch 15/30\n",
            "249/249 [==============================] - 28s 113ms/step - loss: 0.4082 - accuracy: 0.8534 - val_loss: 0.1190 - val_accuracy: 0.9692\n",
            "Epoch 16/30\n",
            "249/249 [==============================] - 16s 63ms/step - loss: 0.3892 - accuracy: 0.8572 - val_loss: 0.1147 - val_accuracy: 0.9698\n",
            "Epoch 17/30\n",
            "249/249 [==============================] - 15s 62ms/step - loss: 0.3784 - accuracy: 0.8612 - val_loss: 0.1104 - val_accuracy: 0.9692\n",
            "Epoch 18/30\n",
            "249/249 [==============================] - 15s 62ms/step - loss: 0.3783 - accuracy: 0.8619 - val_loss: 0.1159 - val_accuracy: 0.9675\n",
            "Epoch 19/30\n",
            "249/249 [==============================] - 17s 69ms/step - loss: 0.3633 - accuracy: 0.8677 - val_loss: 0.1017 - val_accuracy: 0.9723\n",
            "Epoch 20/30\n",
            "249/249 [==============================] - 15s 62ms/step - loss: 0.3611 - accuracy: 0.8682 - val_loss: 0.0991 - val_accuracy: 0.9734\n",
            "Epoch 21/30\n",
            "249/249 [==============================] - 15s 62ms/step - loss: 0.3596 - accuracy: 0.8681 - val_loss: 0.0942 - val_accuracy: 0.9729\n",
            "Epoch 22/30\n",
            "249/249 [==============================] - 15s 62ms/step - loss: 0.3540 - accuracy: 0.8709 - val_loss: 0.0908 - val_accuracy: 0.9740\n",
            "Epoch 23/30\n",
            "249/249 [==============================] - 15s 62ms/step - loss: 0.3408 - accuracy: 0.8757 - val_loss: 0.0889 - val_accuracy: 0.9757\n",
            "Epoch 24/30\n",
            "249/249 [==============================] - 15s 62ms/step - loss: 0.3315 - accuracy: 0.8776 - val_loss: 0.0916 - val_accuracy: 0.9729\n",
            "Epoch 25/30\n",
            "249/249 [==============================] - 15s 62ms/step - loss: 0.3257 - accuracy: 0.8788 - val_loss: 0.0905 - val_accuracy: 0.9777\n",
            "Epoch 26/30\n",
            "249/249 [==============================] - 16s 64ms/step - loss: 0.3350 - accuracy: 0.8774 - val_loss: 0.0829 - val_accuracy: 0.9760\n",
            "Epoch 27/30\n",
            "249/249 [==============================] - 16s 62ms/step - loss: 0.3219 - accuracy: 0.8820 - val_loss: 0.0811 - val_accuracy: 0.9799\n",
            "Epoch 28/30\n",
            "249/249 [==============================] - 16s 62ms/step - loss: 0.3171 - accuracy: 0.8817 - val_loss: 0.0888 - val_accuracy: 0.9760\n",
            "Epoch 29/30\n",
            "249/249 [==============================] - 16s 63ms/step - loss: 0.3166 - accuracy: 0.8824 - val_loss: 0.0855 - val_accuracy: 0.9777\n",
            "Epoch 30/30\n",
            "249/249 [==============================] - 16s 63ms/step - loss: 0.3145 - accuracy: 0.8827 - val_loss: 0.0852 - val_accuracy: 0.9780\n"
          ]
        }
      ],
      "source": [
        "history =model.fit_generator(batch_generator(X_train, train_y, 128, 1),\n",
        "                                  steps_per_epoch=294, \n",
        "                                  epochs=300,\n",
        "                                  validation_data=batch_generator(X_train, train_y, 32, 0),\n",
        "                                  validation_steps=100,\n",
        "                                  verbose=1,\n",
        "                                  shuffle = 1)\n"
      ]
    },
    {
      "cell_type": "markdown",
      "metadata": {
        "id": "9Axa7am8IJAh"
      },
      "source": [
        "### Visualize Loss and Accuarcy "
      ]
    },
    {
      "cell_type": "code",
      "execution_count": 48,
      "metadata": {
        "colab": {
          "base_uri": "https://localhost:8080/",
          "height": 312
        },
        "id": "Q77YEZnJDr_A",
        "outputId": "c73e6c8f-5eb8-4a01-9066-332eb44b6947"
      },
      "outputs": [
        {
          "output_type": "execute_result",
          "data": {
            "text/plain": [
              "Text(0.5, 0, 'epochs')"
            ]
          },
          "metadata": {},
          "execution_count": 48
        },
        {
          "output_type": "display_data",
          "data": {
            "text/plain": [
              "<Figure size 432x288 with 1 Axes>"
            ],
            "image/png": "[encoded data removed]"
          },
          "metadata": {
            "needs_background": "light"
          }
        }
      ],
      "source": [
        "plt.plot(history.history['loss'])\n",
        "plt.plot(history.history['val_loss'])\n",
        "plt.title('loss')\n",
        "plt.legend('loss')\n",
        "plt.xlabel('epochs')"
      ]
    },
    {
      "cell_type": "code",
      "execution_count": 49,
      "metadata": {
        "colab": {
          "base_uri": "https://localhost:8080/",
          "height": 312
        },
        "id": "cGlQ-pUBDzF0",
        "outputId": "9be184a6-59c0-4664-cc74-2aacffc5f9b8"
      },
      "outputs": [
        {
          "output_type": "execute_result",
          "data": {
            "text/plain": [
              "Text(0.5, 0, 'epochs')"
            ]
          },
          "metadata": {},
          "execution_count": 49
        },
        {
          "output_type": "display_data",
          "data": {
            "text/plain": [
              "<Figure size 432x288 with 1 Axes>"
            ],
            "image/png": "[encoded data removed]"
          },
          "metadata": {
            "needs_background": "light"
          }
        }
      ],
      "source": [
        "plt.plot(history.history['accuracy'])\n",
        "plt.plot(history.history['val_accuracy'])\n",
        "plt.title('accuracy')\n",
        "plt.legend('accuracy')\n",
        "plt.xlabel('epochs')"
      ]
    },
    {
      "cell_type": "markdown",
      "metadata": {
        "id": "346Aahz4ITWz"
      },
      "source": [
        "### evaluate the model "
      ]
    },
    {
      "cell_type": "code",
      "execution_count": 50,
      "metadata": {
        "colab": {
          "base_uri": "https://localhost:8080/"
        },
        "id": "pyaFotgzDzI3",
        "outputId": "d8957a90-0987-47d7-861c-187742bb8ed5"
      },
      "outputs": [
        {
          "output_type": "stream",
          "name": "stdout",
          "text": [
            "123/123 [==============================] - 1s 6ms/step - loss: 0.1296 - accuracy: 0.9725\n",
            "Test score  0.1295790672302246\n",
            "Test accuracy  0.9725470542907715\n"
          ]
        }
      ],
      "source": [
        "score =model.evaluate(X_test,test_y)\n",
        "print('Test score ' ,score[0])\n",
        "print('Test accuracy ', score[1])"
      ]
    },
    {
      "cell_type": "markdown",
      "metadata": {
        "id": "bQbTsUis5Nk6"
      },
      "source": [
        "### Save Model"
      ]
    },
    {
      "cell_type": "code",
      "execution_count": 66,
      "metadata": {
        "id": "ZiVP9PCT934t"
      },
      "outputs": [],
      "source": [
        "model.save('/content/drive/My Drive/COELIA/Ar_ch_model_edition2.h5')"
      ]
    },
    {
      "cell_type": "code",
      "execution_count": 67,
      "metadata": {
        "id": "o2v3CEmFDH4K"
      },
      "outputs": [],
      "source": [
        "model = tf.keras.models.load_model('/content/drive/My Drive/COELIA/Ar_ch_model_edition2.h5')"
      ]
    },
    {
      "cell_type": "code",
      "execution_count": 68,
      "metadata": {
        "colab": {
          "base_uri": "https://localhost:8080/"
        },
        "id": "M267SWm8DZaU",
        "outputId": "9f8d1cbd-b2ff-410d-a9aa-1330eeb87b39"
      },
      "outputs": [
        {
          "output_type": "stream",
          "name": "stdout",
          "text": [
            "123/123 [==============================] - 1s 6ms/step - loss: 0.1296 - accuracy: 0.9725\n",
            "Test score  0.1295790672302246\n",
            "Test accuracy  0.9725470542907715\n"
          ]
        }
      ],
      "source": [
        "score =model.evaluate(X_test,test_y)\n",
        "print('Test score ' ,score[0])\n",
        "print('Test accuracy ', score[1])"
      ]
    },
    {
      "cell_type": "markdown",
      "metadata": {
        "id": "KH4nRoxt6ZFl"
      },
      "source": [
        "# Make Prediction "
      ]
    },
    {
      "cell_type": "code",
      "execution_count": 51,
      "metadata": {
        "id": "Wk9LSSD76iDI"
      },
      "outputs": [],
      "source": [
        "# Define List of charcters \n",
        "result=[u'أ',u'ب',u'ت',u'ث',u'ج',u'ح',u'خ',u'د',u'ذ',u'ر',u'ز',u'س',u'ش',u'ص',u'ض'u'ط',u'ظ',u'ع',u'غ',u'ف',u'ق',\n",
        "        u'ك',u'ل',u'م',u'ن',u'ه',u'و',u'ي']"
      ]
    },
    {
      "cell_type": "code",
      "execution_count": 56,
      "metadata": {
        "colab": {
          "base_uri": "https://localhost:8080/",
          "height": 298
        },
        "id": "Ojqu3iWZ5MTc",
        "outputId": "a247ad78-6c5e-4162-e3f4-63515280e183"
      },
      "outputs": [
        {
          "output_type": "execute_result",
          "data": {
            "text/plain": [
              "Text(0.5, 1.0, 'ت')"
            ]
          },
          "metadata": {},
          "execution_count": 56
        },
        {
          "output_type": "display_data",
          "data": {
            "text/plain": [
              "<Figure size 432x288 with 1 Axes>"
            ],
            "image/png": "[encoded data removed]"
          },
          "metadata": {
            "needs_background": "light"
          }
        }
      ],
      "source": [
        "plt.figure(figsize=(6,4))\n",
        "plt.imshow(X_test[0].reshape(28,20),cmap='gray')\n",
        "plt.title(result[test_y[0].argmax(axis=0)])"
      ]
    },
    {
      "cell_type": "code",
      "execution_count": 58,
      "metadata": {
        "colab": {
          "base_uri": "https://localhost:8080/"
        },
        "id": "78xgpy5Q8UFi",
        "outputId": "04b33325-e68e-4863-c185-aa85766f2629"
      },
      "outputs": [
        {
          "output_type": "stream",
          "name": "stdout",
          "text": [
            "Acual value :  ت  and prediction :  ت\n"
          ]
        }
      ],
      "source": [
        "print(\"Acual value : \",result[test_y[0].argmax(axis=0)],\" and prediction : \" , result[model.predict(X_test[0].reshape(-1,28,20,1)).argmax(axis=1)[0]])"
      ]
    },
    {
      "cell_type": "code",
      "execution_count": 59,
      "metadata": {
        "colab": {
          "base_uri": "https://localhost:8080/",
          "height": 298
        },
        "id": "ya2YJe4Y8ZnX",
        "outputId": "18aeb607-f35f-4b7f-81da-c0fcf074277c"
      },
      "outputs": [
        {
          "output_type": "execute_result",
          "data": {
            "text/plain": [
              "Text(0.5, 1.0, 'ب')"
            ]
          },
          "metadata": {},
          "execution_count": 59
        },
        {
          "output_type": "display_data",
          "data": {
            "text/plain": [
              "<Figure size 432x288 with 1 Axes>"
            ],
            "image/png": "[encoded data removed]"
          },
          "metadata": {
            "needs_background": "light"
          }
        }
      ],
      "source": [
        "plt.figure(figsize=(6,4))\n",
        "plt.imshow(X_test[2].reshape(28,20,),cmap='gray')\n",
        "plt.title(result[test_y[2].argmax(axis=0)])"
      ]
    },
    {
      "cell_type": "code",
      "execution_count": 60,
      "metadata": {
        "colab": {
          "base_uri": "https://localhost:8080/"
        },
        "id": "Lzj4_c-89wkF",
        "outputId": "1c03ba9c-9787-4659-a66b-5550f63d202b"
      },
      "outputs": [
        {
          "output_type": "stream",
          "name": "stdout",
          "text": [
            "Acual value :  ب  and prediction :  ب\n"
          ]
        }
      ],
      "source": [
        "print(\"Acual value : \",result[test_y[2].argmax(axis=0)],\" and prediction : \" , result[model.predict(X_test[2].reshape(-1,28,20,1)).argmax(axis=1)[0]])"
      ]
    },
    {
      "cell_type": "code",
      "execution_count": 62,
      "metadata": {
        "colab": {
          "base_uri": "https://localhost:8080/",
          "height": 1000
        },
        "id": "zLL2bqEaBUGq",
        "outputId": "51284b22-2293-4299-a2b8-6846967146b4"
      },
      "outputs": [
        {
          "output_type": "display_data",
          "data": {
            "text/plain": [
              "<Figure size 576x432 with 1 Axes>"
            ],
            "image/png": "[encoded data removed]"
          },
          "metadata": {
            "needs_background": "light"
          }
        },
        {
          "output_type": "display_data",
          "data": {
            "text/plain": [
              "<Figure size 576x432 with 1 Axes>"
            ],
            "image/png": "[encoded data removed]"
          },
          "metadata": {
            "needs_background": "light"
          }
        },
        {
          "output_type": "display_data",
          "data": {
            "text/plain": [
              "<Figure size 576x432 with 1 Axes>"
            ],
            "image/png": "[encoded data removed]"
          },
          "metadata": {
            "needs_background": "light"
          }
        },
        {
          "output_type": "display_data",
          "data": {
            "text/plain": [
              "<Figure size 576x432 with 1 Axes>"
            ],
            "image/png": "[encoded data removed]"
          },
          "metadata": {
            "needs_background": "light"
          }
        },
        {
          "output_type": "display_data",
          "data": {
            "text/plain": [
              "<Figure size 576x432 with 1 Axes>"
            ],
            "image/png": "[encoded data removed]"
          },
          "metadata": {
            "needs_background": "light"
          }
        }
      ],
      "source": [
        "for i in range(5):\n",
        "    plt.figure(figsize=(8,6))\n",
        "    plt.imshow(X_test[i].reshape(28,20),cmap='gray')\n",
        "    plt.title(\"Acual value : {}  and prediction : {}\".format(result[test_y[i].argmax(axis=0)], result[model.predict(X_test[i].reshape(-1,28,20,1)).argmax(axis=1)[0]]))"
      ]
    },
    {
      "cell_type": "markdown",
      "metadata": {
        "id": "O03com04GjCl"
      },
      "source": [
        "Method To Make Prediction "
      ]
    },
    {
      "cell_type": "code",
      "execution_count": 63,
      "metadata": {
        "colab": {
          "base_uri": "https://localhost:8080/"
        },
        "id": "7-JqslD1Bd6V",
        "outputId": "b1aa4497-5fca-4723-8cb0-bffec0abacc3"
      },
      "outputs": [
        {
          "output_type": "stream",
          "name": "stdout",
          "text": [
            "Prediction :   ب\n"
          ]
        }
      ],
      "source": [
        "def make_prediction(image):\n",
        "    if image.ndim==3 and image.shape[2]==1 or image.ndim==2 :\n",
        "        image=cv2.resize(image,(28,20))\n",
        "        image=image/255\n",
        "        image=image.reshape(-1,28,20,1)\n",
        "        print(\"Prediction :  \" ,result[model.predict(image).argmax(axis=1)[0]])\n",
        "    else:\n",
        "        image=cv2.cvtColor(image, cv2.COLOR_RGB2GRAY)\n",
        "        image=cv2.resize(image,(28,20))\n",
        "        image=image/255\n",
        "        image=image.reshape(-1,28,20,1)\n",
        "        print(\"Prediction :  \" ,result[model.predict(image).argmax(axis=1)[0]])\n",
        "\n",
        "make_prediction(X_test[0])"
      ]
    },
    {
      "cell_type": "code",
      "execution_count": 64,
      "metadata": {
        "colab": {
          "base_uri": "https://localhost:8080/"
        },
        "id": "XCNAtVQA8vB9",
        "outputId": "008442e1-a8b8-466c-b486-cb42e97c47c6"
      },
      "outputs": [
        {
          "output_type": "stream",
          "name": "stdout",
          "text": [
            "Prediction :   ب\n"
          ]
        }
      ],
      "source": [
        "make_prediction(X_test[0].reshape(28,20,1))"
      ]
    },
    {
      "cell_type": "markdown",
      "metadata": {
        "id": "MhbfeRv3Vjbb"
      },
      "source": [
        "Method Take image as input"
      ]
    },
    {
      "cell_type": "code",
      "execution_count": 65,
      "metadata": {
        "id": "anYkpUsjTmvP"
      },
      "outputs": [],
      "source": [
        "def predict_charcter_in_image(image):\n",
        "    image=cv2.imread(image,0) # 0 in flage to convert image to gray scale \n",
        "    image=cv2.resize(image,(28,20))\n",
        "    image=image/255\n",
        "    image=image.reshape(-1,28,20,1)\n",
        "    print(\"Prediction :  \" ,result[model.predict(image).argmax(axis=1)[0]])"
      ]
    },
    {
      "cell_type": "code",
      "execution_count": null,
      "metadata": {
        "id": "sr38lXTteMra"
      },
      "outputs": [],
      "source": [
        ""
      ]
    }
  ],
  "metadata": {
    "accelerator": "GPU",
    "colab": {
      "collapsed_sections": [],
      "name": "Char_Rec_Ar_edition2.ipynb",
      "provenance": []
    },
    "kernelspec": {
      "display_name": "Python 3",
      "name": "python3"
    }
  },
  "nbformat": 4,
  "nbformat_minor": 0
}