{
  "nbformat": 4,
  "nbformat_minor": 0,
  "metadata": {
    "colab": {
      "name": "Arabic OCR_first_edition.ipynb",
      "provenance": [],
      "collapsed_sections": []
    },
    "kernelspec": {
      "name": "python3",
      "display_name": "Python 3"
    },
    "language_info": {
      "name": "python"
    }
  },
  "cells": [
    {
      "cell_type": "markdown",
      "source": [
        "# Import Liberaries "
      ],
      "metadata": {
        "id": "IHqmikFJt_qz"
      }
    },
    {
      "cell_type": "code",
      "source": [
        "import numpy as np\n",
        "import cv2\n",
        "from scipy.ndimage import interpolation as inter\n",
        "from PIL import Image as im\n",
        "from tensorflow.keras.models import load_model "
      ],
      "metadata": {
        "id": "Ywymds9tuB7V"
      },
      "execution_count": 106,
      "outputs": []
    },
    {
      "cell_type": "markdown",
      "source": [
        "TestImage"
      ],
      "metadata": {
        "id": "KU-5Z5xwHTbL"
      }
    },
    {
      "cell_type": "code",
      "source": [
        "img = cv2.imread('ex2.jpeg')\n",
        "plt.imshow(img)"
      ],
      "metadata": {
        "colab": {
          "base_uri": "https://localhost:8080/",
          "height": 266
        },
        "id": "oeJxYBDSHTK6",
        "outputId": "a75c6295-e501-48a0-fec7-8991b0ad52e6"
      },
      "execution_count": 107,
      "outputs": [
        {
          "output_type": "execute_result",
          "data": {
            "text/plain": [
              "<matplotlib.image.AxesImage at 0x7f1d5c710490>"
            ]
          },
          "metadata": {},
          "execution_count": 107
        },
        {
          "output_type": "display_data",
          "data": {
            "text/plain": [
              "<Figure size 432x288 with 1 Axes>"
            ],
            "image/png": "[encoded data removed]"
          },
          "metadata": {
            "needs_background": "light"
          }
        }
      ]
    },
    {
      "cell_type": "markdown",
      "source": [
        "# Preprocessing \n"
      ],
      "metadata": {
        "id": "0eiVIehJt7I0"
      }
    },
    {
      "cell_type": "markdown",
      "source": [
        "### Compute the horizontal or the vertical projection of a gray image\n",
        "\n",
        "image project is an \"histogram over horizontal or vertical way of grayscale level\"."
      ],
      "metadata": {
        "id": "PHYNhH5_E4ZQ"
      }
    },
    {
      "cell_type": "code",
      "source": [
        "def projection(gray_img, axis:str='horizontal'):\n",
        "    if axis == 'horizontal':\n",
        "        projection_bins = np.sum(gray_img, 1).astype('int32')\n",
        "    elif axis == 'vertical':\n",
        "        projection_bins = np.sum(gray_img, 0).astype('int32')\n",
        "\n",
        "    return projection_bins"
      ],
      "metadata": {
        "id": "TT5NQVUJt9TL"
      },
      "execution_count": 108,
      "outputs": []
    },
    {
      "cell_type": "markdown",
      "source": [
        "test projection "
      ],
      "metadata": {
        "id": "0IqZwTdLHjHc"
      }
    },
    {
      "cell_type": "code",
      "source": [
        "plt.imshow(projection(img,'horizontal'))"
      ],
      "metadata": {
        "colab": {
          "base_uri": "https://localhost:8080/",
          "height": 286
        },
        "id": "CPvYv7lcHaY9",
        "outputId": "f887c3c6-1a0e-42ad-8ca4-21d4d6ad03c9"
      },
      "execution_count": 109,
      "outputs": [
        {
          "output_type": "execute_result",
          "data": {
            "text/plain": [
              "<matplotlib.image.AxesImage at 0x7f1d581406d0>"
            ]
          },
          "metadata": {},
          "execution_count": 109
        },
        {
          "output_type": "display_data",
          "data": {
            "text/plain": [
              "<Figure size 432x288 with 1 Axes>"
            ],
            "image/png": "[encoded data removed]"
          },
          "metadata": {
            "needs_background": "light"
          }
        }
      ]
    },
    {
      "cell_type": "code",
      "source": [
        "plt.imshow(projection(img,'vertical'))"
      ],
      "metadata": {
        "colab": {
          "base_uri": "https://localhost:8080/",
          "height": 286
        },
        "id": "YEkBzVdMHmOO",
        "outputId": "268ce3e7-7790-4167-e366-f8019da7e87f"
      },
      "execution_count": 110,
      "outputs": [
        {
          "output_type": "execute_result",
          "data": {
            "text/plain": [
              "<matplotlib.image.AxesImage at 0x7f1d58213a10>"
            ]
          },
          "metadata": {},
          "execution_count": 110
        },
        {
          "output_type": "display_data",
          "data": {
            "text/plain": [
              "<Figure size 432x288 with 1 Axes>"
            ],
            "image/png": "[encoded data removed]"
          },
          "metadata": {
            "needs_background": "light"
          }
        }
      ]
    },
    {
      "cell_type": "code",
      "source": [
        "# ethod to save charcaters after extrat it;\n",
        "def save_image(img, folder, title):\n",
        "    cv2.imwrite(f'./{folder}/{title}.png', img)\n"
      ],
      "metadata": {
        "id": "jUdcCWveA4nM"
      },
      "execution_count": 111,
      "outputs": []
    },
    {
      "cell_type": "markdown",
      "source": [
        "### Binarize an image\n",
        "\n",
        "\n",
        "Image binarization is the process of taking a grayscale image and converting it to black-and-white, essentially reducing the information contained within the image from 256 shades of gray to 2: black and white, a binary image. \n"
      ],
      "metadata": {
        "id": "NVIi9UBpFqh6"
      }
    },
    {
      "cell_type": "code",
      "source": [
        "def converet_to_binary(image, filter:int=1):\n",
        "    if len(image.shape) == 3:\n",
        "        gray_img = cv2.cvtColor(image, cv2.COLOR_BGR2GRAY)\n",
        "    else:\n",
        "        gray_img = image\n",
        "\n",
        "    if filter != 0:\n",
        "        blur = cv2.GaussianBlur(gray_img, (3,3), 0)\n",
        "        binary_img = cv2.threshold(blur, 0, 255, cv2.THRESH_BINARY+cv2.THRESH_OTSU)[1]\n",
        "    else:\n",
        "        binary_img = cv2.threshold(gray_img, 0, 255, cv2.THRESH_BINARY+cv2.THRESH_OTSU)[1]\n",
        "\n",
        "    return binary_img"
      ],
      "metadata": {
        "id": "gLOxAKn7uScm"
      },
      "execution_count": 112,
      "outputs": []
    },
    {
      "cell_type": "markdown",
      "source": [
        "test binaization "
      ],
      "metadata": {
        "id": "xId3lABwHxKU"
      }
    },
    {
      "cell_type": "code",
      "source": [
        "plt.imshow(converet_to_binary(img),cmap='gray')"
      ],
      "metadata": {
        "colab": {
          "base_uri": "https://localhost:8080/",
          "height": 266
        },
        "id": "4hwT19E0Hw4r",
        "outputId": "93363917-fa20-4fae-e960-2da200eb4dea"
      },
      "execution_count": 113,
      "outputs": [
        {
          "output_type": "execute_result",
          "data": {
            "text/plain": [
              "<matplotlib.image.AxesImage at 0x7f1d5835ca90>"
            ]
          },
          "metadata": {},
          "execution_count": 113
        },
        {
          "output_type": "display_data",
          "data": {
            "text/plain": [
              "<Figure size 432x288 with 1 Axes>"
            ],
            "image/png": "[encoded data removed]"
          },
          "metadata": {
            "needs_background": "light"
          }
        }
      ]
    },
    {
      "cell_type": "code",
      "source": [
        "def find_score(arr, angle):\n",
        "    data = inter.rotate(arr, angle, reshape=False, order=0)\n",
        "    hist = np.sum(data, axis=1)\n",
        "    score = np.sum((hist[1:] - hist[:-1]) ** 2)\n",
        "    return hist, score"
      ],
      "metadata": {
        "id": "NHBODnHpuqaD"
      },
      "execution_count": 115,
      "outputs": []
    },
    {
      "cell_type": "markdown",
      "source": [
        "### Deskwe image \n",
        "\n",
        " deskewing is the process of straightening an image that has been  written crookedly — that is an image that is slanting too far in one direction, or one that is misaligned."
      ],
      "metadata": {
        "id": "c6nykly6Gomr"
      }
    },
    {
      "cell_type": "code",
      "source": [
        "def deskew(binary_img):\n",
        "\n",
        "    \n",
        "    ht, wd = binary_img.shape\n",
        "    bin_img = (binary_img // 255.0)\n",
        "\n",
        "    delta = 0.1\n",
        "    limit = 3\n",
        "    angles = np.arange(-limit, limit+delta, delta)\n",
        "    scores = []\n",
        "    for angle in angles:\n",
        "        hist, score = find_score(bin_img, angle)\n",
        "        scores.append(score)\n",
        "\n",
        "    best_score = max(scores)\n",
        "    best_angle = angles[scores.index(best_score)]\n",
        "\n",
        "    # correct skew\n",
        "    data = inter.rotate(bin_img, best_angle, reshape=False, order=0)\n",
        "    img = im.fromarray((255 * data).astype(\"uint8\"))\n",
        "\n",
        "    # img.save('skew_corrected.png')\n",
        "    pix = np.array(img)\n",
        "    return pix"
      ],
      "metadata": {
        "id": "qJF3sV6ouhkG"
      },
      "execution_count": 116,
      "outputs": []
    },
    {
      "cell_type": "markdown",
      "source": [
        "test"
      ],
      "metadata": {
        "id": "ivVWuMNKIMfE"
      }
    },
    {
      "cell_type": "code",
      "source": [
        "plt.imshow(deskew(converet_to_binary(img)),cmap='gray')"
      ],
      "metadata": {
        "colab": {
          "base_uri": "https://localhost:8080/",
          "height": 266
        },
        "id": "LbmsyT7LIODs",
        "outputId": "488eb266-03ff-4e51-e2fc-e4ca19ff797f"
      },
      "execution_count": 117,
      "outputs": [
        {
          "output_type": "execute_result",
          "data": {
            "text/plain": [
              "<matplotlib.image.AxesImage at 0x7f1d5c716390>"
            ]
          },
          "metadata": {},
          "execution_count": 117
        },
        {
          "output_type": "display_data",
          "data": {
            "text/plain": [
              "<Figure size 432x288 with 1 Axes>"
            ],
            "image/png": "[encoded data removed]"
          },
          "metadata": {
            "needs_background": "light"
          }
        }
      ]
    },
    {
      "cell_type": "markdown",
      "source": [
        "# Segmentation "
      ],
      "metadata": {
        "id": "5KwSERmfvAI9"
      }
    },
    {
      "cell_type": "code",
      "source": [
        "def preprocess(image):\n",
        "    # Maybe we end up using only gray level image.\n",
        "    gray_img = cv2.cvtColor(image, cv2.COLOR_BGR2GRAY)\n",
        "    gray_img = cv2.bitwise_not(gray_img)\n",
        "\n",
        "    binary_img = converet_to_binary(gray_img, 0)\n",
        "\n",
        "    deskewed_img = deskew(binary_img)\n",
        "    return deskewed_img"
      ],
      "metadata": {
        "id": "WyuqYNTZuykS"
      },
      "execution_count": 118,
      "outputs": []
    },
    {
      "cell_type": "code",
      "source": [
        "def projection_segmentation(clean_img, axis, cut=3):\n",
        "    \n",
        "    segments = []\n",
        "    start = -1\n",
        "    cnt = 0\n",
        "\n",
        "    projection_bins = projection(clean_img, axis)\n",
        "    for idx, projection_bin in enumerate(projection_bins):\n",
        "\n",
        "        if projection_bin != 0:\n",
        "            cnt = 0\n",
        "        if projection_bin != 0 and start == -1:\n",
        "            start = idx\n",
        "        if projection_bin == 0 and start != -1:\n",
        "            cnt += 1\n",
        "            if cnt >= cut:\n",
        "                if axis == 'horizontal':\n",
        "                    segments.append(clean_img[max(start-1, 0):idx, :])\n",
        "                elif axis == 'vertical':\n",
        "                    segments.append(clean_img[:, max(start-1, 0):idx])\n",
        "                cnt = 0\n",
        "                start = -1\n",
        "    \n",
        "    return segments"
      ],
      "metadata": {
        "id": "rSo6Skoyvdgv"
      },
      "execution_count": 119,
      "outputs": []
    },
    {
      "cell_type": "markdown",
      "source": [
        "# Line Segmentation\n"
      ],
      "metadata": {
        "id": "I8ua_7bLvoKm"
      }
    },
    {
      "cell_type": "code",
      "source": [
        "def line_horizontal_projection(image, cut=3):\n",
        "    # Preprocess input image\n",
        "    clean_img = preprocess(image)\n",
        "\n",
        "    # Segmentation    \n",
        "    lines = projection_segmentation(clean_img, axis='horizontal', cut=cut)\n",
        "\n",
        "    return lines\n"
      ],
      "metadata": {
        "id": "P9xcZT9Mvhum"
      },
      "execution_count": 120,
      "outputs": []
    },
    {
      "cell_type": "code",
      "source": [
        "# Charcter Segmentation\n",
        "def char_vertical_projection(line_image, cut=3):\n",
        "    \n",
        "    line_words = projection_segmentation(line_image, axis='vertical', cut=cut)\n",
        "    line_words.reverse()\n",
        "    \n",
        "    return line_words"
      ],
      "metadata": {
        "id": "tMT8ejzFvpdV"
      },
      "execution_count": 121,
      "outputs": []
    },
    {
      "cell_type": "code",
      "source": [
        "def extract_charcters(img, visual=0):\n",
        "\n",
        "    lines = line_horizontal_projection(img)\n",
        "    words = []\n",
        "    \n",
        "    for idx, line in enumerate(lines):\n",
        "        \n",
        "        if visual:\n",
        "            save_image(line, 'lines', f'line{idx}')\n",
        "\n",
        "        line_words = char_vertical_projection(line)\n",
        "        for w in line_words:\n",
        "            words.append((w, line))\n",
        "    \n",
        "    if visual:\n",
        "        for idx, word in enumerate(words):\n",
        "            save_image(word[0], 'words', f'word{idx}')\n",
        "\n",
        "    return words"
      ],
      "metadata": {
        "id": "HLL4QXghvtzO"
      },
      "execution_count": 122,
      "outputs": []
    },
    {
      "cell_type": "markdown",
      "source": [
        "#Test"
      ],
      "metadata": {
        "id": "ALA1qE5JBI-v"
      }
    },
    {
      "cell_type": "code",
      "source": [
        "img = cv2.imread('ex2.jpeg')\n",
        "words=extract_charcters(img, 1)"
      ],
      "metadata": {
        "id": "rn3NDrK6vw4p"
      },
      "execution_count": 123,
      "outputs": []
    },
    {
      "cell_type": "markdown",
      "source": [
        "## Test Image"
      ],
      "metadata": {
        "id": "AgL6mzn5BuF4"
      }
    },
    {
      "cell_type": "markdown",
      "source": [
        "## Visualize Result"
      ],
      "metadata": {
        "id": "695JAAOqBMm7"
      }
    },
    {
      "cell_type": "code",
      "source": [
        "import matplotlib.pyplot as plt\n",
        "for i in range(len(words)):\n",
        "    plt.subplot(2,2,i+1)\n",
        "    plt.imshow(words[i][0],cmap='gray')\n",
        "plt.show()"
      ],
      "metadata": {
        "colab": {
          "base_uri": "https://localhost:8080/",
          "height": 269
        },
        "id": "0_NWW9Dwwy-w",
        "outputId": "4472eb29-8a18-4df9-9db6-b8f3a2c28106"
      },
      "execution_count": 125,
      "outputs": [
        {
          "output_type": "display_data",
          "data": {
            "text/plain": [
              "<Figure size 432x288 with 3 Axes>"
            ],
            "image/png": "[encoded data removed]"
          },
          "metadata": {
            "needs_background": "light"
          }
        }
      ]
    },
    {
      "cell_type": "markdown",
      "source": [
        "### Sentance Recognition "
      ],
      "metadata": {
        "id": "Jm1gqdK4e5bU"
      }
    },
    {
      "cell_type": "code",
      "source": [
        "labels=[u'أ',u'ب',u'ت',u'ث',u'ج',u'ح',u'خ',u'د',u'ذ',u'ر',u'ز',u'س',u'ش',u'ص',u'ض',u'ط',u'ظ',u'ع',u'غ',u'ف',u'ق',u'ك',u'ل',u'لا',u'م',u'ن',u'ه',u'و',u'ي']\n"
      ],
      "metadata": {
        "id": "4gKD3cvT9lOK"
      },
      "execution_count": 126,
      "outputs": []
    },
    {
      "cell_type": "code",
      "source": [
        "from scipy.ndimage import center_of_mass\n",
        "def center(image):\n",
        "    cy, cx = center_of_mass(image)\n",
        "\n",
        "    rows, cols = image.shape\n",
        "    shiftx = np.round(cols/2.0-cx).astype(int)\n",
        "    shifty = np.round(rows/2.0-cy).astype(int)\n",
        "\n",
        "    M = np.float32([[1, 0, shiftx], [0, 1, shifty]])\n",
        "    image = cv2.warpAffine(image, M, (cols, rows))\n",
        "\n",
        "    return image"
      ],
      "metadata": {
        "id": "pqiXf2rI-ztX"
      },
      "execution_count": 128,
      "outputs": []
    },
    {
      "cell_type": "markdown",
      "source": [
        "### Load Model "
      ],
      "metadata": {
        "id": "soFjG1q8Bomp"
      }
    },
    {
      "cell_type": "code",
      "source": [
        "model =load_model('Ar_ch_model.h5')\n",
        "result=\"\"\n",
        "for i in range(len(words)-1,-1,-1):\n",
        "    image=cv2.resize(center(words[i][0]),(32,32))\n",
        "    result+=(labels[model.predict((image).reshape(-1,32,32,1)).argmax(axis=1)[0]])"
      ],
      "metadata": {
        "id": "SJxP5oW3e5H1"
      },
      "execution_count": 131,
      "outputs": []
    },
    {
      "cell_type": "markdown",
      "source": [
        "## Result"
      ],
      "metadata": {
        "id": "9CwHKck9Bq94"
      }
    },
    {
      "cell_type": "code",
      "source": [
        "print(result)"
      ],
      "metadata": {
        "colab": {
          "base_uri": "https://localhost:8080/"
        },
        "id": "2d1LbLFYg9mh",
        "outputId": "79b33f44-91db-4407-b864-923a62908352"
      },
      "execution_count": 132,
      "outputs": [
        {
          "output_type": "stream",
          "name": "stdout",
          "text": [
            "أذن\n"
          ]
        }
      ]
    },
    {
      "cell_type": "markdown",
      "source": [
        "# Refernces"
      ],
      "metadata": {
        "id": "fqq3dKKVCbkQ"
      }
    },
    {
      "cell_type": "markdown",
      "source": [
        "Arabic Character Segmentation Using Projection Based Approach with Profile's Amplitude Filter ."
      ],
      "metadata": {
        "id": "bFbpV5xTCdwT"
      }
    },
    {
      "cell_type": "markdown",
      "source": [
        "https://github.com/HusseinYoussef/Arabic-OCR"
      ],
      "metadata": {
        "id": "S4uhMbQzHFTi"
      }
    },
    {
      "cell_type": "code",
      "source": [
        ""
      ],
      "metadata": {
        "id": "KE8JN5ZiCdQ1"
      },
      "execution_count": null,
      "outputs": []
    }
  ]
}